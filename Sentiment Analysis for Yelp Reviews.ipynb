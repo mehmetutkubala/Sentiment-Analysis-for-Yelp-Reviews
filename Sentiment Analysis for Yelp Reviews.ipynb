{
 "cells": [
  {
   "cell_type": "markdown",
   "id": "20e75538",
   "metadata": {},
   "source": [
    "# Sentiment Analysis for Yelp Reviews"
   ]
  },
  {
   "cell_type": "code",
   "execution_count": 1,
   "id": "a3e72b95",
   "metadata": {},
   "outputs": [],
   "source": [
    "import pandas as pd\n",
    "import numpy as np\n",
    "\n",
    "import matplotlib.pyplot as plt\n",
    "%matplotlib inline\n",
    "import seaborn as sns\n",
    "\n",
    "from sklearn.feature_extraction.text import CountVectorizer\n",
    "\n",
    "from sklearn.neighbors import KNeighborsClassifier\n",
    "from sklearn.tree import DecisionTreeClassifier\n",
    "from sklearn.ensemble import RandomForestClassifier\n",
    "from sklearn.linear_model import LogisticRegression\n",
    "from sklearn.naive_bayes import MultinomialNB\n",
    "\n",
    "from sklearn.metrics import accuracy_score,precision_score,recall_score,f1_score\n",
    "\n",
    "k=KNeighborsClassifier()\n",
    "d=DecisionTreeClassifier()\n",
    "r=RandomForestClassifier()\n",
    "l=LogisticRegression()\n",
    "mb=MultinomialNB()\n",
    "    \n",
    "from sklearn.model_selection import train_test_split\n",
    "\n",
    "from textblob import TextBlob\n",
    "\n",
    "import warnings\n",
    "warnings.filterwarnings('ignore')  "
   ]
  },
  {
   "cell_type": "markdown",
   "id": "c71f0f5d",
   "metadata": {},
   "source": [
    "### EDA"
   ]
  },
  {
   "cell_type": "code",
   "execution_count": 2,
   "id": "a7da9af2",
   "metadata": {},
   "outputs": [],
   "source": [
    "df=pd.read_excel(\"Yelp_Dataset.xlsx\")"
   ]
  },
  {
   "cell_type": "code",
   "execution_count": 3,
   "id": "4a4669f8",
   "metadata": {},
   "outputs": [
    {
     "data": {
      "text/html": [
       "<div>\n",
       "<style scoped>\n",
       "    .dataframe tbody tr th:only-of-type {\n",
       "        vertical-align: middle;\n",
       "    }\n",
       "\n",
       "    .dataframe tbody tr th {\n",
       "        vertical-align: top;\n",
       "    }\n",
       "\n",
       "    .dataframe thead th {\n",
       "        text-align: right;\n",
       "    }\n",
       "</style>\n",
       "<table border=\"1\" class=\"dataframe\">\n",
       "  <thead>\n",
       "    <tr style=\"text-align: right;\">\n",
       "      <th></th>\n",
       "      <th>Reviews</th>\n",
       "      <th>Stars</th>\n",
       "    </tr>\n",
       "  </thead>\n",
       "  <tbody>\n",
       "    <tr>\n",
       "      <th>0</th>\n",
       "      <td>OK, it's getting to the point where every time...</td>\n",
       "      <td>5</td>\n",
       "    </tr>\n",
       "    <tr>\n",
       "      <th>1</th>\n",
       "      <td>Waited in a line so long, I thought I was at a...</td>\n",
       "      <td>5</td>\n",
       "    </tr>\n",
       "    <tr>\n",
       "      <th>2</th>\n",
       "      <td>Katz's is an institution for a reason. Absolut...</td>\n",
       "      <td>5</td>\n",
       "    </tr>\n",
       "    <tr>\n",
       "      <th>3</th>\n",
       "      <td>Katz's never ever disappoints! Don't let the l...</td>\n",
       "      <td>5</td>\n",
       "    </tr>\n",
       "    <tr>\n",
       "      <th>4</th>\n",
       "      <td>I felt like a tourist in here.  But that's OK....</td>\n",
       "      <td>5</td>\n",
       "    </tr>\n",
       "  </tbody>\n",
       "</table>\n",
       "</div>"
      ],
      "text/plain": [
       "                                             Reviews  Stars\n",
       "0  OK, it's getting to the point where every time...      5\n",
       "1  Waited in a line so long, I thought I was at a...      5\n",
       "2  Katz's is an institution for a reason. Absolut...      5\n",
       "3  Katz's never ever disappoints! Don't let the l...      5\n",
       "4  I felt like a tourist in here.  But that's OK....      5"
      ]
     },
     "execution_count": 3,
     "metadata": {},
     "output_type": "execute_result"
    }
   ],
   "source": [
    "df.head()"
   ]
  },
  {
   "cell_type": "code",
   "execution_count": 4,
   "id": "9570df72",
   "metadata": {},
   "outputs": [
    {
     "data": {
      "text/html": [
       "<div>\n",
       "<style scoped>\n",
       "    .dataframe tbody tr th:only-of-type {\n",
       "        vertical-align: middle;\n",
       "    }\n",
       "\n",
       "    .dataframe tbody tr th {\n",
       "        vertical-align: top;\n",
       "    }\n",
       "\n",
       "    .dataframe thead th {\n",
       "        text-align: right;\n",
       "    }\n",
       "</style>\n",
       "<table border=\"1\" class=\"dataframe\">\n",
       "  <thead>\n",
       "    <tr style=\"text-align: right;\">\n",
       "      <th></th>\n",
       "      <th>Reviews</th>\n",
       "      <th>Stars</th>\n",
       "    </tr>\n",
       "  </thead>\n",
       "  <tbody>\n",
       "    <tr>\n",
       "      <th>13233</th>\n",
       "      <td>TWO WORDS:  TOURIST TRAP.  This place is way o...</td>\n",
       "      <td>1</td>\n",
       "    </tr>\n",
       "    <tr>\n",
       "      <th>13234</th>\n",
       "      <td>I will start off by saying horrible, horrible,...</td>\n",
       "      <td>1</td>\n",
       "    </tr>\n",
       "    <tr>\n",
       "      <th>13235</th>\n",
       "      <td>Hadn't been to Katz's in about 10 years. Was i...</td>\n",
       "      <td>1</td>\n",
       "    </tr>\n",
       "    <tr>\n",
       "      <th>13236</th>\n",
       "      <td>unbelievable 15.75 for a sandwich visitors don...</td>\n",
       "      <td>1</td>\n",
       "    </tr>\n",
       "    <tr>\n",
       "      <th>13237</th>\n",
       "      <td>Where do I begin? My mother and I were visitin...</td>\n",
       "      <td>1</td>\n",
       "    </tr>\n",
       "  </tbody>\n",
       "</table>\n",
       "</div>"
      ],
      "text/plain": [
       "                                                 Reviews  Stars\n",
       "13233  TWO WORDS:  TOURIST TRAP.  This place is way o...      1\n",
       "13234  I will start off by saying horrible, horrible,...      1\n",
       "13235  Hadn't been to Katz's in about 10 years. Was i...      1\n",
       "13236  unbelievable 15.75 for a sandwich visitors don...      1\n",
       "13237  Where do I begin? My mother and I were visitin...      1"
      ]
     },
     "execution_count": 4,
     "metadata": {},
     "output_type": "execute_result"
    }
   ],
   "source": [
    "df.tail()"
   ]
  },
  {
   "cell_type": "code",
   "execution_count": 5,
   "id": "d6552cd7",
   "metadata": {},
   "outputs": [
    {
     "name": "stdout",
     "output_type": "stream",
     "text": [
      "<class 'pandas.core.frame.DataFrame'>\n",
      "RangeIndex: 13238 entries, 0 to 13237\n",
      "Data columns (total 2 columns):\n",
      " #   Column   Non-Null Count  Dtype \n",
      "---  ------   --------------  ----- \n",
      " 0   Reviews  13238 non-null  object\n",
      " 1   Stars    13238 non-null  int64 \n",
      "dtypes: int64(1), object(1)\n",
      "memory usage: 207.0+ KB\n"
     ]
    }
   ],
   "source": [
    "df.info()"
   ]
  },
  {
   "cell_type": "code",
   "execution_count": 6,
   "id": "09df18f2",
   "metadata": {},
   "outputs": [
    {
     "data": {
      "text/plain": [
       "Reviews    0\n",
       "Stars      0\n",
       "dtype: int64"
      ]
     },
     "execution_count": 6,
     "metadata": {},
     "output_type": "execute_result"
    }
   ],
   "source": [
    "df.isnull().sum() #We examine the empty lines."
   ]
  },
  {
   "cell_type": "markdown",
   "id": "85fb2e45",
   "metadata": {},
   "source": [
    "### Feature Engineering"
   ]
  },
  {
   "cell_type": "code",
   "execution_count": 7,
   "id": "e7be7bcf",
   "metadata": {},
   "outputs": [],
   "source": [
    "df[\"Reviews\"]=df[\"Reviews\"].str.lower() #We convert our texts to lowercase.\n",
    "df[\"Reviews\"]=df[\"Reviews\"].str.replace(\"[^\\w\\s]\",\"\") #We remove punctuation marks from our texts.\n",
    "df[\"Reviews\"]=df[\"Reviews\"].str.replace(\"\\d+\",\"\") #We are removing numbers from our texts.\n",
    "df[\"Reviews\"]=df[\"Reviews\"].str.replace(\"\\n\",\"\").replace(\"\\r\",\"\") #We remove spaces in our texts."
   ]
  },
  {
   "cell_type": "code",
   "execution_count": 8,
   "id": "8a77ebb5",
   "metadata": {},
   "outputs": [],
   "source": [
    "def detect_sentiment(Reviews):\n",
    "    return TextBlob(Reviews).sentiment.polarity\n",
    "#We are doing our sentiment analysis."
   ]
  },
  {
   "cell_type": "code",
   "execution_count": 9,
   "id": "a2984fa1",
   "metadata": {},
   "outputs": [
    {
     "data": {
      "text/html": [
       "<div>\n",
       "<style scoped>\n",
       "    .dataframe tbody tr th:only-of-type {\n",
       "        vertical-align: middle;\n",
       "    }\n",
       "\n",
       "    .dataframe tbody tr th {\n",
       "        vertical-align: top;\n",
       "    }\n",
       "\n",
       "    .dataframe thead th {\n",
       "        text-align: right;\n",
       "    }\n",
       "</style>\n",
       "<table border=\"1\" class=\"dataframe\">\n",
       "  <thead>\n",
       "    <tr style=\"text-align: right;\">\n",
       "      <th></th>\n",
       "      <th>Reviews</th>\n",
       "      <th>Stars</th>\n",
       "      <th>Sentiment</th>\n",
       "    </tr>\n",
       "  </thead>\n",
       "  <tbody>\n",
       "    <tr>\n",
       "      <th>0</th>\n",
       "      <td>ok its getting to the point where every time i...</td>\n",
       "      <td>5</td>\n",
       "      <td>0.503636</td>\n",
       "    </tr>\n",
       "    <tr>\n",
       "      <th>1</th>\n",
       "      <td>waited in a line so long i thought i was at a ...</td>\n",
       "      <td>5</td>\n",
       "      <td>0.179167</td>\n",
       "    </tr>\n",
       "    <tr>\n",
       "      <th>2</th>\n",
       "      <td>katzs is an institution for a reason absolutel...</td>\n",
       "      <td>5</td>\n",
       "      <td>0.177500</td>\n",
       "    </tr>\n",
       "    <tr>\n",
       "      <th>3</th>\n",
       "      <td>katzs never ever disappoints dont let the line...</td>\n",
       "      <td>5</td>\n",
       "      <td>0.338528</td>\n",
       "    </tr>\n",
       "    <tr>\n",
       "      <th>4</th>\n",
       "      <td>i felt like a tourist in here  but thats ok  i...</td>\n",
       "      <td>5</td>\n",
       "      <td>0.385124</td>\n",
       "    </tr>\n",
       "  </tbody>\n",
       "</table>\n",
       "</div>"
      ],
      "text/plain": [
       "                                             Reviews  Stars  Sentiment\n",
       "0  ok its getting to the point where every time i...      5   0.503636\n",
       "1  waited in a line so long i thought i was at a ...      5   0.179167\n",
       "2  katzs is an institution for a reason absolutel...      5   0.177500\n",
       "3  katzs never ever disappoints dont let the line...      5   0.338528\n",
       "4  i felt like a tourist in here  but thats ok  i...      5   0.385124"
      ]
     },
     "execution_count": 9,
     "metadata": {},
     "output_type": "execute_result"
    }
   ],
   "source": [
    "df[\"Sentiment\"]=df[\"Reviews\"].apply(detect_sentiment)\n",
    "df.head()"
   ]
  },
  {
   "cell_type": "code",
   "execution_count": 10,
   "id": "275f0cc2",
   "metadata": {},
   "outputs": [
    {
     "data": {
      "text/plain": [
       " 0.500000    195\n",
       " 0.000000    173\n",
       " 1.000000    116\n",
       " 0.250000     86\n",
       " 0.300000     79\n",
       "            ... \n",
       " 0.316667      1\n",
       " 0.050630      1\n",
       " 0.175737      1\n",
       " 0.191818      1\n",
       "-0.061869      1\n",
       "Name: Sentiment, Length: 8309, dtype: int64"
      ]
     },
     "execution_count": 10,
     "metadata": {},
     "output_type": "execute_result"
    }
   ],
   "source": [
    "df[\"Sentiment\"].value_counts()"
   ]
  },
  {
   "cell_type": "code",
   "execution_count": 11,
   "id": "e8cefcd2",
   "metadata": {},
   "outputs": [
    {
     "data": {
      "text/plain": [
       "(13065, 3)"
      ]
     },
     "execution_count": 11,
     "metadata": {},
     "output_type": "execute_result"
    }
   ],
   "source": [
    "df=df[df[\"Sentiment\"]!=0]\n",
    "df.shape"
   ]
  },
  {
   "cell_type": "code",
   "execution_count": 12,
   "id": "968a728c",
   "metadata": {},
   "outputs": [],
   "source": [
    "def sentiment2(sent):\n",
    "    if (sent< 0):\n",
    "        return 0\n",
    "    elif sent>0:\n",
    "        return 1\n",
    "#We divide the texts into positive and negative.."
   ]
  },
  {
   "cell_type": "code",
   "execution_count": 13,
   "id": "f3c65e66",
   "metadata": {},
   "outputs": [
    {
     "data": {
      "text/html": [
       "<div>\n",
       "<style scoped>\n",
       "    .dataframe tbody tr th:only-of-type {\n",
       "        vertical-align: middle;\n",
       "    }\n",
       "\n",
       "    .dataframe tbody tr th {\n",
       "        vertical-align: top;\n",
       "    }\n",
       "\n",
       "    .dataframe thead th {\n",
       "        text-align: right;\n",
       "    }\n",
       "</style>\n",
       "<table border=\"1\" class=\"dataframe\">\n",
       "  <thead>\n",
       "    <tr style=\"text-align: right;\">\n",
       "      <th></th>\n",
       "      <th>Reviews</th>\n",
       "      <th>Stars</th>\n",
       "      <th>Sentiment</th>\n",
       "      <th>Sent</th>\n",
       "    </tr>\n",
       "  </thead>\n",
       "  <tbody>\n",
       "    <tr>\n",
       "      <th>0</th>\n",
       "      <td>ok its getting to the point where every time i...</td>\n",
       "      <td>5</td>\n",
       "      <td>0.503636</td>\n",
       "      <td>1</td>\n",
       "    </tr>\n",
       "    <tr>\n",
       "      <th>1</th>\n",
       "      <td>waited in a line so long i thought i was at a ...</td>\n",
       "      <td>5</td>\n",
       "      <td>0.179167</td>\n",
       "      <td>1</td>\n",
       "    </tr>\n",
       "    <tr>\n",
       "      <th>2</th>\n",
       "      <td>katzs is an institution for a reason absolutel...</td>\n",
       "      <td>5</td>\n",
       "      <td>0.177500</td>\n",
       "      <td>1</td>\n",
       "    </tr>\n",
       "    <tr>\n",
       "      <th>3</th>\n",
       "      <td>katzs never ever disappoints dont let the line...</td>\n",
       "      <td>5</td>\n",
       "      <td>0.338528</td>\n",
       "      <td>1</td>\n",
       "    </tr>\n",
       "    <tr>\n",
       "      <th>4</th>\n",
       "      <td>i felt like a tourist in here  but thats ok  i...</td>\n",
       "      <td>5</td>\n",
       "      <td>0.385124</td>\n",
       "      <td>1</td>\n",
       "    </tr>\n",
       "  </tbody>\n",
       "</table>\n",
       "</div>"
      ],
      "text/plain": [
       "                                             Reviews  Stars  Sentiment  Sent\n",
       "0  ok its getting to the point where every time i...      5   0.503636     1\n",
       "1  waited in a line so long i thought i was at a ...      5   0.179167     1\n",
       "2  katzs is an institution for a reason absolutel...      5   0.177500     1\n",
       "3  katzs never ever disappoints dont let the line...      5   0.338528     1\n",
       "4  i felt like a tourist in here  but thats ok  i...      5   0.385124     1"
      ]
     },
     "execution_count": 13,
     "metadata": {},
     "output_type": "execute_result"
    }
   ],
   "source": [
    "df[\"Sent\"]=df[\"Sentiment\"].apply(sentiment2)\n",
    "df.reset_index()\n",
    "df.head()"
   ]
  },
  {
   "cell_type": "code",
   "execution_count": 14,
   "id": "6c735eb7",
   "metadata": {},
   "outputs": [],
   "source": [
    "def neutral(Stars):\n",
    "    if Stars<=3:\n",
    "        return 0\n",
    "    elif Stars>3:\n",
    "        return 1"
   ]
  },
  {
   "cell_type": "code",
   "execution_count": 15,
   "id": "a8a4c0aa",
   "metadata": {},
   "outputs": [
    {
     "data": {
      "text/html": [
       "<div>\n",
       "<style scoped>\n",
       "    .dataframe tbody tr th:only-of-type {\n",
       "        vertical-align: middle;\n",
       "    }\n",
       "\n",
       "    .dataframe tbody tr th {\n",
       "        vertical-align: top;\n",
       "    }\n",
       "\n",
       "    .dataframe thead th {\n",
       "        text-align: right;\n",
       "    }\n",
       "</style>\n",
       "<table border=\"1\" class=\"dataframe\">\n",
       "  <thead>\n",
       "    <tr style=\"text-align: right;\">\n",
       "      <th></th>\n",
       "      <th>Reviews</th>\n",
       "      <th>Stars</th>\n",
       "      <th>Sentiment</th>\n",
       "      <th>Sent</th>\n",
       "      <th>Neutral</th>\n",
       "    </tr>\n",
       "  </thead>\n",
       "  <tbody>\n",
       "    <tr>\n",
       "      <th>0</th>\n",
       "      <td>ok its getting to the point where every time i...</td>\n",
       "      <td>5</td>\n",
       "      <td>0.503636</td>\n",
       "      <td>1</td>\n",
       "      <td>1</td>\n",
       "    </tr>\n",
       "    <tr>\n",
       "      <th>1</th>\n",
       "      <td>waited in a line so long i thought i was at a ...</td>\n",
       "      <td>5</td>\n",
       "      <td>0.179167</td>\n",
       "      <td>1</td>\n",
       "      <td>1</td>\n",
       "    </tr>\n",
       "    <tr>\n",
       "      <th>2</th>\n",
       "      <td>katzs is an institution for a reason absolutel...</td>\n",
       "      <td>5</td>\n",
       "      <td>0.177500</td>\n",
       "      <td>1</td>\n",
       "      <td>1</td>\n",
       "    </tr>\n",
       "    <tr>\n",
       "      <th>3</th>\n",
       "      <td>katzs never ever disappoints dont let the line...</td>\n",
       "      <td>5</td>\n",
       "      <td>0.338528</td>\n",
       "      <td>1</td>\n",
       "      <td>1</td>\n",
       "    </tr>\n",
       "    <tr>\n",
       "      <th>4</th>\n",
       "      <td>i felt like a tourist in here  but thats ok  i...</td>\n",
       "      <td>5</td>\n",
       "      <td>0.385124</td>\n",
       "      <td>1</td>\n",
       "      <td>1</td>\n",
       "    </tr>\n",
       "  </tbody>\n",
       "</table>\n",
       "</div>"
      ],
      "text/plain": [
       "                                             Reviews  Stars  Sentiment  Sent  \\\n",
       "0  ok its getting to the point where every time i...      5   0.503636     1   \n",
       "1  waited in a line so long i thought i was at a ...      5   0.179167     1   \n",
       "2  katzs is an institution for a reason absolutel...      5   0.177500     1   \n",
       "3  katzs never ever disappoints dont let the line...      5   0.338528     1   \n",
       "4  i felt like a tourist in here  but thats ok  i...      5   0.385124     1   \n",
       "\n",
       "   Neutral  \n",
       "0        1  \n",
       "1        1  \n",
       "2        1  \n",
       "3        1  \n",
       "4        1  "
      ]
     },
     "execution_count": 15,
     "metadata": {},
     "output_type": "execute_result"
    }
   ],
   "source": [
    "df[\"Neutral\"]=df[\"Stars\"].apply(neutral)\n",
    "df.head()"
   ]
  },
  {
   "cell_type": "markdown",
   "id": "3312f7a4",
   "metadata": {},
   "source": [
    "### Data Visualization"
   ]
  },
  {
   "cell_type": "code",
   "execution_count": 16,
   "id": "9e29d7fe",
   "metadata": {},
   "outputs": [
    {
     "data": {
      "image/png": "[encoded data removed]",
      "text/plain": [
       "<Figure size 432x288 with 1 Axes>"
      ]
     },
     "metadata": {
      "needs_background": "light"
     },
     "output_type": "display_data"
    }
   ],
   "source": [
    "sns.countplot(df.Stars);"
   ]
  },
  {
   "cell_type": "code",
   "execution_count": 17,
   "id": "8691b412",
   "metadata": {},
   "outputs": [
    {
     "data": {
      "image/png": "[encoded data removed]",
      "text/plain": [
       "<Figure size 432x288 with 1 Axes>"
      ]
     },
     "metadata": {
      "needs_background": "light"
     },
     "output_type": "display_data"
    }
   ],
   "source": [
    "sns.countplot(df.Sent);"
   ]
  },
  {
   "cell_type": "code",
   "execution_count": 18,
   "id": "c3b436f9",
   "metadata": {},
   "outputs": [
    {
     "data": {
      "image/png": "[encoded data removed]",
      "text/plain": [
       "<Figure size 432x288 with 1 Axes>"
      ]
     },
     "metadata": {
      "needs_background": "light"
     },
     "output_type": "display_data"
    }
   ],
   "source": [
    "sns.countplot(df.Neutral);"
   ]
  },
  {
   "cell_type": "markdown",
   "id": "e7a8e7ff",
   "metadata": {},
   "source": [
    "### Classification"
   ]
  },
  {
   "cell_type": "code",
   "execution_count": 19,
   "id": "6bbfc325",
   "metadata": {},
   "outputs": [],
   "source": [
    "vect=CountVectorizer(lowercase=True,stop_words=\"english\") #We delete unnecessary words and tokenize the texts.\n",
    "x=df.Reviews\n",
    "y=df.Neutral\n",
    "x=vect.fit_transform(x)"
   ]
  },
  {
   "cell_type": "code",
   "execution_count": 20,
   "id": "e8f9d18d",
   "metadata": {},
   "outputs": [],
   "source": [
    "def sentiment_classification_funct(x,y):\n",
    "    x_train,x_test,y_train,y_test=train_test_split(x,y,test_size=0.2,random_state=60)\n",
    "    \n",
    "    print(x_train.shape,x_test.shape,y_train.shape,y_test.shape)\n",
    "    \n",
    "    k=KNeighborsClassifier()\n",
    "    d=DecisionTreeClassifier()\n",
    "    r=RandomForestClassifier()\n",
    "    l=LogisticRegression()\n",
    "    mb=MultinomialNB()\n",
    "    \n",
    "    algos=[k,d,r,l,mb]\n",
    "    algo_names=['KNeighborsClassifier','DecisionTreeClassifier','RandomForestClassifier','LogisticRegression','MultinomialNB']\n",
    "    \n",
    "    accuracy_scored=[]\n",
    "    precision_scored=[]\n",
    "    recall_scored=[]\n",
    "    f1_scored=[]\n",
    "    \n",
    "    for item in algos:\n",
    "        item.fit(x_train,y_train)\n",
    "        accuracy_scored.append(accuracy_score(y_test,item.predict(x_test)))\n",
    "        precision_scored.append(precision_score(y_test,item.predict(x_test)))\n",
    "        recall_scored.append(recall_score(y_test,item.predict(x_test)))\n",
    "        f1_scored.append(f1_score(y_test,item.predict(x_test)))\n",
    "        \n",
    "    result=pd.DataFrame(columns=['f1_score','recall_score','precision_score','accuracy_score'],index=algo_names)\n",
    "    result.f1_score=f1_scored\n",
    "    result.recall_score=recall_scored\n",
    "    result.precision_score=precision_scored\n",
    "    result.accuracy_score=accuracy_scored\n",
    "    sentiment_classification_funct.result=result.sort_values('f1_score',ascending=False)\n",
    "    return result.sort_values('f1_score',ascending=False)"
   ]
  },
  {
   "cell_type": "code",
   "execution_count": 21,
   "id": "778d91dd",
   "metadata": {},
   "outputs": [
    {
     "name": "stdout",
     "output_type": "stream",
     "text": [
      "(10452, 28106) (2613, 28106) (10452,) (2613,)\n"
     ]
    },
    {
     "data": {
      "text/html": [
       "<div>\n",
       "<style scoped>\n",
       "    .dataframe tbody tr th:only-of-type {\n",
       "        vertical-align: middle;\n",
       "    }\n",
       "\n",
       "    .dataframe tbody tr th {\n",
       "        vertical-align: top;\n",
       "    }\n",
       "\n",
       "    .dataframe thead th {\n",
       "        text-align: right;\n",
       "    }\n",
       "</style>\n",
       "<table border=\"1\" class=\"dataframe\">\n",
       "  <thead>\n",
       "    <tr style=\"text-align: right;\">\n",
       "      <th></th>\n",
       "      <th>f1_score</th>\n",
       "      <th>recall_score</th>\n",
       "      <th>precision_score</th>\n",
       "      <th>accuracy_score</th>\n",
       "    </tr>\n",
       "  </thead>\n",
       "  <tbody>\n",
       "    <tr>\n",
       "      <th>LogisticRegression</th>\n",
       "      <td>0.917308</td>\n",
       "      <td>0.936138</td>\n",
       "      <td>0.899221</td>\n",
       "      <td>0.872560</td>\n",
       "    </tr>\n",
       "    <tr>\n",
       "      <th>MultinomialNB</th>\n",
       "      <td>0.912051</td>\n",
       "      <td>0.951343</td>\n",
       "      <td>0.875875</td>\n",
       "      <td>0.861462</td>\n",
       "    </tr>\n",
       "    <tr>\n",
       "      <th>RandomForestClassifier</th>\n",
       "      <td>0.897218</td>\n",
       "      <td>0.988849</td>\n",
       "      <td>0.821128</td>\n",
       "      <td>0.828932</td>\n",
       "    </tr>\n",
       "    <tr>\n",
       "      <th>KNeighborsClassifier</th>\n",
       "      <td>0.858943</td>\n",
       "      <td>0.967562</td>\n",
       "      <td>0.772249</td>\n",
       "      <td>0.760046</td>\n",
       "    </tr>\n",
       "    <tr>\n",
       "      <th>DecisionTreeClassifier</th>\n",
       "      <td>0.846231</td>\n",
       "      <td>0.853523</td>\n",
       "      <td>0.839063</td>\n",
       "      <td>0.765786</td>\n",
       "    </tr>\n",
       "  </tbody>\n",
       "</table>\n",
       "</div>"
      ],
      "text/plain": [
       "                        f1_score  recall_score  precision_score  \\\n",
       "LogisticRegression      0.917308      0.936138         0.899221   \n",
       "MultinomialNB           0.912051      0.951343         0.875875   \n",
       "RandomForestClassifier  0.897218      0.988849         0.821128   \n",
       "KNeighborsClassifier    0.858943      0.967562         0.772249   \n",
       "DecisionTreeClassifier  0.846231      0.853523         0.839063   \n",
       "\n",
       "                        accuracy_score  \n",
       "LogisticRegression            0.872560  \n",
       "MultinomialNB                 0.861462  \n",
       "RandomForestClassifier        0.828932  \n",
       "KNeighborsClassifier          0.760046  \n",
       "DecisionTreeClassifier        0.765786  "
      ]
     },
     "execution_count": 21,
     "metadata": {},
     "output_type": "execute_result"
    }
   ],
   "source": [
    "sentiment_classification_funct(x,y)"
   ]
  },
  {
   "cell_type": "code",
   "execution_count": 22,
   "id": "bf69630a",
   "metadata": {},
   "outputs": [],
   "source": [
    "vect=CountVectorizer(lowercase=True,stop_words=\"english\")\n",
    "x=df.Reviews\n",
    "y=df.Sent\n",
    "x=vect.fit_transform(x)"
   ]
  },
  {
   "cell_type": "code",
   "execution_count": 23,
   "id": "032372ff",
   "metadata": {},
   "outputs": [
    {
     "name": "stdout",
     "output_type": "stream",
     "text": [
      "(10452, 28106) (2613, 28106) (10452,) (2613,)\n"
     ]
    },
    {
     "data": {
      "text/html": [
       "<div>\n",
       "<style scoped>\n",
       "    .dataframe tbody tr th:only-of-type {\n",
       "        vertical-align: middle;\n",
       "    }\n",
       "\n",
       "    .dataframe tbody tr th {\n",
       "        vertical-align: top;\n",
       "    }\n",
       "\n",
       "    .dataframe thead th {\n",
       "        text-align: right;\n",
       "    }\n",
       "</style>\n",
       "<table border=\"1\" class=\"dataframe\">\n",
       "  <thead>\n",
       "    <tr style=\"text-align: right;\">\n",
       "      <th></th>\n",
       "      <th>f1_score</th>\n",
       "      <th>recall_score</th>\n",
       "      <th>precision_score</th>\n",
       "      <th>accuracy_score</th>\n",
       "    </tr>\n",
       "  </thead>\n",
       "  <tbody>\n",
       "    <tr>\n",
       "      <th>LogisticRegression</th>\n",
       "      <td>0.968150</td>\n",
       "      <td>0.977428</td>\n",
       "      <td>0.959047</td>\n",
       "      <td>0.942212</td>\n",
       "    </tr>\n",
       "    <tr>\n",
       "      <th>RandomForestClassifier</th>\n",
       "      <td>0.951165</td>\n",
       "      <td>0.999574</td>\n",
       "      <td>0.907228</td>\n",
       "      <td>0.907769</td>\n",
       "    </tr>\n",
       "    <tr>\n",
       "      <th>KNeighborsClassifier</th>\n",
       "      <td>0.945749</td>\n",
       "      <td>0.994889</td>\n",
       "      <td>0.901235</td>\n",
       "      <td>0.897436</td>\n",
       "    </tr>\n",
       "    <tr>\n",
       "      <th>MultinomialNB</th>\n",
       "      <td>0.943443</td>\n",
       "      <td>0.980409</td>\n",
       "      <td>0.909163</td>\n",
       "      <td>0.894374</td>\n",
       "    </tr>\n",
       "    <tr>\n",
       "      <th>DecisionTreeClassifier</th>\n",
       "      <td>0.940805</td>\n",
       "      <td>0.951022</td>\n",
       "      <td>0.930805</td>\n",
       "      <td>0.892461</td>\n",
       "    </tr>\n",
       "  </tbody>\n",
       "</table>\n",
       "</div>"
      ],
      "text/plain": [
       "                        f1_score  recall_score  precision_score  \\\n",
       "LogisticRegression      0.968150      0.977428         0.959047   \n",
       "RandomForestClassifier  0.951165      0.999574         0.907228   \n",
       "KNeighborsClassifier    0.945749      0.994889         0.901235   \n",
       "MultinomialNB           0.943443      0.980409         0.909163   \n",
       "DecisionTreeClassifier  0.940805      0.951022         0.930805   \n",
       "\n",
       "                        accuracy_score  \n",
       "LogisticRegression            0.942212  \n",
       "RandomForestClassifier        0.907769  \n",
       "KNeighborsClassifier          0.897436  \n",
       "MultinomialNB                 0.894374  \n",
       "DecisionTreeClassifier        0.892461  "
      ]
     },
     "execution_count": 23,
     "metadata": {},
     "output_type": "execute_result"
    }
   ],
   "source": [
    "sentiment_classification_funct(x,y)"
   ]
  },
  {
   "cell_type": "code",
   "execution_count": 24,
   "id": "b886a382",
   "metadata": {},
   "outputs": [],
   "source": [
    "df.to_excel(\"Yelp_Dataset(edited).xlsx\",index=False)"
   ]
  }
 ],
 "metadata": {
  "kernelspec": {
   "display_name": "Python 3 (ipykernel)",
   "language": "python",
   "name": "python3"
  },
  "language_info": {
   "codemirror_mode": {
    "name": "ipython",
    "version": 3
   },
   "file_extension": ".py",
   "mimetype": "text/x-python",
   "name": "python",
   "nbconvert_exporter": "python",
   "pygments_lexer": "ipython3",
   "version": "3.9.12"
  }
 },
 "nbformat": 4,
 "nbformat_minor": 5
}
