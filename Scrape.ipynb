{
 "cells": [
  {
   "cell_type": "markdown",
   "id": "997fc5d8",
   "metadata": {},
   "source": [
    "# Yelp Scrape"
   ]
  },
  {
   "cell_type": "code",
   "execution_count": 1,
   "id": "1df569a4",
   "metadata": {},
   "outputs": [],
   "source": [
    "#pip install BeautifulSoup  "
   ]
  },
  {
   "cell_type": "code",
   "execution_count": 2,
   "id": "875e7d6b",
   "metadata": {},
   "outputs": [],
   "source": [
    "from bs4 import BeautifulSoup\n",
    "import requests\n",
    "import pandas as pd"
   ]
  },
  {
   "cell_type": "code",
   "execution_count": null,
   "id": "03f76153",
   "metadata": {},
   "outputs": [],
   "source": [
    "texts=[]\n",
    "stars=[]\n",
    "for i in range(0,768):\n",
    "    link=\"https://www.yelp.com/biz/katzs-delicatessen-new-york?start=\"+str((i*10))+\"&rr=5#reviews\"\n",
    "    page=requests.get(link)\n",
    "    soup=BeautifulSoup(page.content,\"html.parser\")\n",
    "    reviews=soup.find_all(\"p\",{\"class\":\"comment__09f24__D0cxf css-qgunke\"})\n",
    "    for review in reviews:\n",
    "        texts.append(review.text)\n",
    "        stars.append(5)\n",
    "df_5stars_1=pd.DataFrame(columns=[\"Reviews\",\"Stars\"])\n",
    "df_5stars_1[\"Reviews\"]=texts\n",
    "df_5stars_1[\"Stars\"]=stars\n",
    "df_5stars_1.shape\n",
    "#We scrape 5 star reviews."
   ]
  },
  {
   "cell_type": "code",
   "execution_count": null,
   "id": "b9df78d5",
   "metadata": {},
   "outputs": [],
   "source": [
    "df_5stars_1.to_excel(\"df_5stars_1.xlsx\",index=False) #We save the data."
   ]
  },
  {
   "cell_type": "code",
   "execution_count": null,
   "id": "a1d843cd",
   "metadata": {},
   "outputs": [],
   "source": [
    "texts=[]\n",
    "stars=[]\n",
    "for i in range(0,400):\n",
    "    link=\"https://www.yelp.com/biz/katzs-delicatessen-new-york?start=\"+str((i*10))+\"&rr=4#reviews\"\n",
    "    page=requests.get(link)\n",
    "    soup=BeautifulSoup(page.content,\"html.parser\")\n",
    "    reviews=soup.find_all(\"p\",{\"class\":\"comment__09f24__D0cxf css-qgunke\"})\n",
    "    for review in reviews:\n",
    "        texts.append(review.text)\n",
    "        stars.append(4)\n",
    "df_4stars_1=pd.DataFrame(columns=[\"Reviews\",\"Stars\"])\n",
    "df_4stars_1[\"Reviews\"]=texts\n",
    "df_4stars_1[\"Stars\"]=stars\n",
    "df_4stars_1.shape"
   ]
  },
  {
   "cell_type": "code",
   "execution_count": null,
   "id": "6d90590c",
   "metadata": {},
   "outputs": [],
   "source": [
    "df_4stars_1.to_excel(\"df_4stars_1.xlsx\",index=False)"
   ]
  },
  {
   "cell_type": "code",
   "execution_count": null,
   "id": "05970c18",
   "metadata": {},
   "outputs": [],
   "source": [
    "texts=[]\n",
    "stars=[]\n",
    "for i in range(0,176):\n",
    "    link=\"https://www.yelp.com/biz/katzs-delicatessen-new-york?start=\"+str((i*10))+\"&rr=3#reviews\"\n",
    "    page=requests.get(link)\n",
    "    soup=BeautifulSoup(page.content,\"html.parser\")\n",
    "    reviews=soup.find_all(\"p\",{\"class\":\"comment__09f24__D0cxf css-qgunke\"})\n",
    "    for review in reviews:\n",
    "        texts.append(review.text)\n",
    "        stars.append(3)\n",
    "df_3stars_1=pd.DataFrame(columns=[\"Reviews\",\"Stars\"])\n",
    "df_3stars_1[\"Reviews\"]=texts\n",
    "df_3stars_1[\"Stars\"]=stars\n",
    "df_3stars_1.shape"
   ]
  },
  {
   "cell_type": "code",
   "execution_count": null,
   "id": "16b5fc52",
   "metadata": {},
   "outputs": [],
   "source": [
    "df_3stars_1.to_excel(\"df_3stars_1.xlsx\",index=False)"
   ]
  },
  {
   "cell_type": "code",
   "execution_count": null,
   "id": "b1f401e7",
   "metadata": {},
   "outputs": [],
   "source": [
    "texts=[]\n",
    "stars=[]\n",
    "for i in range(0,87):\n",
    "    link=\"https://www.yelp.com/biz/katzs-delicatessen-new-york?start=\"+str((i*10))+\"&rr=2#reviews\"\n",
    "    page=requests.get(link)\n",
    "    soup=BeautifulSoup(page.content,\"html.parser\")\n",
    "    reviews=soup.find_all(\"p\",{\"class\":\"comment__09f24__D0cxf css-qgunke\"})\n",
    "    for review in reviews:\n",
    "        texts.append(review.text)\n",
    "        stars.append(2)\n",
    "df_2stars_1=pd.DataFrame(columns=[\"Reviews\",\"Stars\"])\n",
    "df_2stars_1[\"Reviews\"]=texts\n",
    "df_2stars_1[\"Stars\"]=stars\n",
    "df_2stars_1.shape"
   ]
  },
  {
   "cell_type": "code",
   "execution_count": null,
   "id": "550bcf34",
   "metadata": {},
   "outputs": [],
   "source": [
    "df_2stars_1.to_excel(\"df_2stars_1.xlsx\",index=False)"
   ]
  },
  {
   "cell_type": "code",
   "execution_count": null,
   "id": "c9299429",
   "metadata": {},
   "outputs": [],
   "source": [
    "texts=[]\n",
    "stars=[]\n",
    "for i in range(0,85):\n",
    "    link=\"https://www.yelp.com/biz/katzs-delicatessen-new-york?start=\"+str((i*10))+\"&rr=1#reviews\"\n",
    "    page=requests.get(link)\n",
    "    soup=BeautifulSoup(page.content,\"html.parser\")\n",
    "    reviews=soup.find_all(\"p\",{\"class\":\"comment__09f24__D0cxf css-qgunke\"})\n",
    "    for review in reviews:\n",
    "        texts.append(review.text)\n",
    "        stars.append(1)\n",
    "df_1stars_1=pd.DataFrame(columns=[\"Reviews\",\"Stars\"])\n",
    "df_1stars_1[\"Reviews\"]=texts\n",
    "df_1stars_1[\"Stars\"]=stars\n",
    "df_1stars_1.shape"
   ]
  },
  {
   "cell_type": "code",
   "execution_count": null,
   "id": "f266b4f9",
   "metadata": {},
   "outputs": [],
   "source": [
    "df_1stars_1.to_excel(\"df_1stars_1.xlsx\",index=False)"
   ]
  },
  {
   "cell_type": "code",
   "execution_count": 3,
   "id": "6f8b9125",
   "metadata": {},
   "outputs": [
    {
     "data": {
      "text/plain": [
       "(13618, 2)"
      ]
     },
     "execution_count": 3,
     "metadata": {},
     "output_type": "execute_result"
    }
   ],
   "source": [
    "df_5stars_1=pd.read_excel(\"df_5stars_1.xlsx\")\n",
    "df_5stars_2=pd.read_excel(\"df_5stars_2.xlsx\")\n",
    "df_5stars_3=pd.read_excel(\"df_5stars_3.xlsx\")\n",
    "df_5stars_4=pd.read_excel(\"df_5stars_4.xlsx\")\n",
    "df_5stars_5=pd.read_excel(\"df_5stars_5.xlsx\")\n",
    "df_5stars_6=pd.read_excel(\"df_5stars_6.xlsx\")\n",
    "df_5stars_7=pd.read_excel(\"df_5stars_7.xlsx\")\n",
    "df_4stars_1=pd.read_excel(\"df_4stars_1.xlsx\")\n",
    "df_4stars_2=pd.read_excel(\"df_4stars_2.xlsx\")\n",
    "df_4stars_3=pd.read_excel(\"df_4stars_3.xlsx\")\n",
    "df_3stars_1=pd.read_excel(\"df_3stars_1.xlsx\")\n",
    "df_3stars_2=pd.read_excel(\"df_3stars_2.xlsx\")\n",
    "df_2stars_1=pd.read_excel(\"df_2stars_1.xlsx\")\n",
    "df_1stars_1=pd.read_excel(\"df_1stars_1.xlsx\")\n",
    "df=pd.concat([df_5stars_1,df_5stars_2,df_5stars_3,df_5stars_4,df_5stars_6,df_5stars_7,df_4stars_1,df_4stars_2,\n",
    "              df_4stars_3,df_3stars_1,df_3stars_2,df_2stars_1,df_1stars_1],ignore_index=True)\n",
    "df.shape\n",
    "#We collect data in a single dataframe."
   ]
  },
  {
   "cell_type": "code",
   "execution_count": 4,
   "id": "95aead95",
   "metadata": {},
   "outputs": [
    {
     "data": {
      "text/html": [
       "<div>\n",
       "<style scoped>\n",
       "    .dataframe tbody tr th:only-of-type {\n",
       "        vertical-align: middle;\n",
       "    }\n",
       "\n",
       "    .dataframe tbody tr th {\n",
       "        vertical-align: top;\n",
       "    }\n",
       "\n",
       "    .dataframe thead th {\n",
       "        text-align: right;\n",
       "    }\n",
       "</style>\n",
       "<table border=\"1\" class=\"dataframe\">\n",
       "  <thead>\n",
       "    <tr style=\"text-align: right;\">\n",
       "      <th></th>\n",
       "      <th>Reviews</th>\n",
       "      <th>Stars</th>\n",
       "    </tr>\n",
       "  </thead>\n",
       "  <tbody>\n",
       "    <tr>\n",
       "      <th>0</th>\n",
       "      <td>OK, it's getting to the point where every time...</td>\n",
       "      <td>5</td>\n",
       "    </tr>\n",
       "    <tr>\n",
       "      <th>1</th>\n",
       "      <td>Waited in a line so long, I thought I was at a...</td>\n",
       "      <td>5</td>\n",
       "    </tr>\n",
       "    <tr>\n",
       "      <th>2</th>\n",
       "      <td>Katz's is an institution for a reason. Absolut...</td>\n",
       "      <td>5</td>\n",
       "    </tr>\n",
       "    <tr>\n",
       "      <th>3</th>\n",
       "      <td>Katz's never ever disappoints! Don't let the l...</td>\n",
       "      <td>5</td>\n",
       "    </tr>\n",
       "    <tr>\n",
       "      <th>4</th>\n",
       "      <td>I felt like a tourist in here.  But that's OK....</td>\n",
       "      <td>5</td>\n",
       "    </tr>\n",
       "  </tbody>\n",
       "</table>\n",
       "</div>"
      ],
      "text/plain": [
       "                                             Reviews  Stars\n",
       "0  OK, it's getting to the point where every time...      5\n",
       "1  Waited in a line so long, I thought I was at a...      5\n",
       "2  Katz's is an institution for a reason. Absolut...      5\n",
       "3  Katz's never ever disappoints! Don't let the l...      5\n",
       "4  I felt like a tourist in here.  But that's OK....      5"
      ]
     },
     "execution_count": 4,
     "metadata": {},
     "output_type": "execute_result"
    }
   ],
   "source": [
    "df.head()"
   ]
  },
  {
   "cell_type": "code",
   "execution_count": 5,
   "id": "ca500548",
   "metadata": {},
   "outputs": [
    {
     "data": {
      "text/html": [
       "<div>\n",
       "<style scoped>\n",
       "    .dataframe tbody tr th:only-of-type {\n",
       "        vertical-align: middle;\n",
       "    }\n",
       "\n",
       "    .dataframe tbody tr th {\n",
       "        vertical-align: top;\n",
       "    }\n",
       "\n",
       "    .dataframe thead th {\n",
       "        text-align: right;\n",
       "    }\n",
       "</style>\n",
       "<table border=\"1\" class=\"dataframe\">\n",
       "  <thead>\n",
       "    <tr style=\"text-align: right;\">\n",
       "      <th></th>\n",
       "      <th>Reviews</th>\n",
       "      <th>Stars</th>\n",
       "    </tr>\n",
       "  </thead>\n",
       "  <tbody>\n",
       "    <tr>\n",
       "      <th>13613</th>\n",
       "      <td>TWO WORDS:  TOURIST TRAP.  This place is way o...</td>\n",
       "      <td>1</td>\n",
       "    </tr>\n",
       "    <tr>\n",
       "      <th>13614</th>\n",
       "      <td>I will start off by saying horrible, horrible,...</td>\n",
       "      <td>1</td>\n",
       "    </tr>\n",
       "    <tr>\n",
       "      <th>13615</th>\n",
       "      <td>Hadn't been to Katz's in about 10 years. Was i...</td>\n",
       "      <td>1</td>\n",
       "    </tr>\n",
       "    <tr>\n",
       "      <th>13616</th>\n",
       "      <td>unbelievable 15.75 for a sandwich visitors don...</td>\n",
       "      <td>1</td>\n",
       "    </tr>\n",
       "    <tr>\n",
       "      <th>13617</th>\n",
       "      <td>Where do I begin? My mother and I were visitin...</td>\n",
       "      <td>1</td>\n",
       "    </tr>\n",
       "  </tbody>\n",
       "</table>\n",
       "</div>"
      ],
      "text/plain": [
       "                                                 Reviews  Stars\n",
       "13613  TWO WORDS:  TOURIST TRAP.  This place is way o...      1\n",
       "13614  I will start off by saying horrible, horrible,...      1\n",
       "13615  Hadn't been to Katz's in about 10 years. Was i...      1\n",
       "13616  unbelievable 15.75 for a sandwich visitors don...      1\n",
       "13617  Where do I begin? My mother and I were visitin...      1"
      ]
     },
     "execution_count": 5,
     "metadata": {},
     "output_type": "execute_result"
    }
   ],
   "source": [
    "df.tail()"
   ]
  },
  {
   "cell_type": "code",
   "execution_count": 8,
   "id": "28c64b97",
   "metadata": {},
   "outputs": [
    {
     "data": {
      "text/plain": [
       "(13238, 2)"
      ]
     },
     "execution_count": 8,
     "metadata": {},
     "output_type": "execute_result"
    }
   ],
   "source": [
    "df=df.drop_duplicates([\"Reviews\"]) #We delete duplicate data.\n",
    "df.shape"
   ]
  },
  {
   "cell_type": "code",
   "execution_count": 9,
   "id": "797e2ca3",
   "metadata": {},
   "outputs": [
    {
     "data": {
      "text/html": [
       "<div>\n",
       "<style scoped>\n",
       "    .dataframe tbody tr th:only-of-type {\n",
       "        vertical-align: middle;\n",
       "    }\n",
       "\n",
       "    .dataframe tbody tr th {\n",
       "        vertical-align: top;\n",
       "    }\n",
       "\n",
       "    .dataframe thead th {\n",
       "        text-align: right;\n",
       "    }\n",
       "</style>\n",
       "<table border=\"1\" class=\"dataframe\">\n",
       "  <thead>\n",
       "    <tr style=\"text-align: right;\">\n",
       "      <th></th>\n",
       "      <th>Reviews</th>\n",
       "      <th>Stars</th>\n",
       "    </tr>\n",
       "  </thead>\n",
       "  <tbody>\n",
       "    <tr>\n",
       "      <th>0</th>\n",
       "      <td>OK, it's getting to the point where every time...</td>\n",
       "      <td>5</td>\n",
       "    </tr>\n",
       "    <tr>\n",
       "      <th>1</th>\n",
       "      <td>Waited in a line so long, I thought I was at a...</td>\n",
       "      <td>5</td>\n",
       "    </tr>\n",
       "    <tr>\n",
       "      <th>2</th>\n",
       "      <td>Katz's is an institution for a reason. Absolut...</td>\n",
       "      <td>5</td>\n",
       "    </tr>\n",
       "    <tr>\n",
       "      <th>3</th>\n",
       "      <td>Katz's never ever disappoints! Don't let the l...</td>\n",
       "      <td>5</td>\n",
       "    </tr>\n",
       "    <tr>\n",
       "      <th>4</th>\n",
       "      <td>I felt like a tourist in here.  But that's OK....</td>\n",
       "      <td>5</td>\n",
       "    </tr>\n",
       "  </tbody>\n",
       "</table>\n",
       "</div>"
      ],
      "text/plain": [
       "                                             Reviews  Stars\n",
       "0  OK, it's getting to the point where every time...      5\n",
       "1  Waited in a line so long, I thought I was at a...      5\n",
       "2  Katz's is an institution for a reason. Absolut...      5\n",
       "3  Katz's never ever disappoints! Don't let the l...      5\n",
       "4  I felt like a tourist in here.  But that's OK....      5"
      ]
     },
     "execution_count": 9,
     "metadata": {},
     "output_type": "execute_result"
    }
   ],
   "source": [
    "df.head()"
   ]
  },
  {
   "cell_type": "code",
   "execution_count": 10,
   "id": "a8089802",
   "metadata": {},
   "outputs": [
    {
     "data": {
      "text/html": [
       "<div>\n",
       "<style scoped>\n",
       "    .dataframe tbody tr th:only-of-type {\n",
       "        vertical-align: middle;\n",
       "    }\n",
       "\n",
       "    .dataframe tbody tr th {\n",
       "        vertical-align: top;\n",
       "    }\n",
       "\n",
       "    .dataframe thead th {\n",
       "        text-align: right;\n",
       "    }\n",
       "</style>\n",
       "<table border=\"1\" class=\"dataframe\">\n",
       "  <thead>\n",
       "    <tr style=\"text-align: right;\">\n",
       "      <th></th>\n",
       "      <th>Reviews</th>\n",
       "      <th>Stars</th>\n",
       "    </tr>\n",
       "  </thead>\n",
       "  <tbody>\n",
       "    <tr>\n",
       "      <th>13613</th>\n",
       "      <td>TWO WORDS:  TOURIST TRAP.  This place is way o...</td>\n",
       "      <td>1</td>\n",
       "    </tr>\n",
       "    <tr>\n",
       "      <th>13614</th>\n",
       "      <td>I will start off by saying horrible, horrible,...</td>\n",
       "      <td>1</td>\n",
       "    </tr>\n",
       "    <tr>\n",
       "      <th>13615</th>\n",
       "      <td>Hadn't been to Katz's in about 10 years. Was i...</td>\n",
       "      <td>1</td>\n",
       "    </tr>\n",
       "    <tr>\n",
       "      <th>13616</th>\n",
       "      <td>unbelievable 15.75 for a sandwich visitors don...</td>\n",
       "      <td>1</td>\n",
       "    </tr>\n",
       "    <tr>\n",
       "      <th>13617</th>\n",
       "      <td>Where do I begin? My mother and I were visitin...</td>\n",
       "      <td>1</td>\n",
       "    </tr>\n",
       "  </tbody>\n",
       "</table>\n",
       "</div>"
      ],
      "text/plain": [
       "                                                 Reviews  Stars\n",
       "13613  TWO WORDS:  TOURIST TRAP.  This place is way o...      1\n",
       "13614  I will start off by saying horrible, horrible,...      1\n",
       "13615  Hadn't been to Katz's in about 10 years. Was i...      1\n",
       "13616  unbelievable 15.75 for a sandwich visitors don...      1\n",
       "13617  Where do I begin? My mother and I were visitin...      1"
      ]
     },
     "execution_count": 10,
     "metadata": {},
     "output_type": "execute_result"
    }
   ],
   "source": [
    "df.tail()"
   ]
  },
  {
   "cell_type": "code",
   "execution_count": 11,
   "id": "35fa2195",
   "metadata": {},
   "outputs": [],
   "source": [
    "df.to_excel(\"Yelp_Dataset.xlsx\",index=False)"
   ]
  }
 ],
 "metadata": {
  "kernelspec": {
   "display_name": "Python 3 (ipykernel)",
   "language": "python",
   "name": "python3"
  },
  "language_info": {
   "codemirror_mode": {
    "name": "ipython",
    "version": 3
   },
   "file_extension": ".py",
   "mimetype": "text/x-python",
   "name": "python",
   "nbconvert_exporter": "python",
   "pygments_lexer": "ipython3",
   "version": "3.9.12"
  }
 },
 "nbformat": 4,
 "nbformat_minor": 5
}
